{
 "cells": [
  {
   "cell_type": "markdown",
   "metadata": {},
   "source": [
    "# Create and run a local RAG pipeline (From Scratch)"
   ]
  },
  {
   "cell_type": "markdown",
   "metadata": {},
   "source": [
    "## What is a RAG"
   ]
  },
  {
   "cell_type": "markdown",
   "metadata": {},
   "source": [
    "RAG stands for **Retrieval Augmented Generation**. The goal of RAG is to have specific information and pass it to an LLM so it can generate outputs more specific based on that information.\n",
    "\n",
    "1. **Retrieval**: Find relevant information given a query.\n",
    "2. **Augmentation**: Take the relevant information and *augment* our input (prompt) to an LLM with that relevant information.\n",
    "3. **Generation**: Take the first two steps and pass them to an LLM for a generative output."
   ]
  },
  {
   "cell_type": "markdown",
   "metadata": {},
   "source": [
    "Asking existing chatbots with broad data (eg. OpenAI) can have:\n",
    "\n",
    "1. No real-time information\n",
    "2. AI will Hallucinates (make up random answer)\n",
    "3. No custom, more specific data"
   ]
  },
  {
   "cell_type": "markdown",
   "metadata": {},
   "source": [
    "## Important Concepts:\n",
    "1. Text Embedding\n",
    "2. Vector Database"
   ]
  },
  {
   "cell_type": "markdown",
   "metadata": {},
   "source": [
    "## Why Local\n",
    "1. Cool\n",
    "2. Privacy: Don't want to send company's data via API\n",
    "3. Speed: No need to send data across the internet.\n",
    "4. Cost: No API fee\n",
    "5. No Vendor Lockin: If OpenAI exploded tomorrow, we can still operate."
   ]
  },
  {
   "cell_type": "code",
   "execution_count": 1,
   "metadata": {},
   "outputs": [
    {
     "name": "stdout",
     "output_type": "stream",
     "text": [
      "Thu Jun 27 12:06:46 2024       \n",
      "+-----------------------------------------------------------------------------------------+\n",
      "| NVIDIA-SMI 555.99                 Driver Version: 555.99         CUDA Version: 12.5     |\n",
      "|-----------------------------------------+------------------------+----------------------+\n",
      "| GPU  Name                  Driver-Model | Bus-Id          Disp.A | Volatile Uncorr. ECC |\n",
      "| Fan  Temp   Perf          Pwr:Usage/Cap |           Memory-Usage | GPU-Util  Compute M. |\n",
      "|                                         |                        |               MIG M. |\n",
      "|=========================================+========================+======================|\n",
      "|   0  NVIDIA GeForce RTX 4060      WDDM  |   00000000:01:00.0  On |                  N/A |\n",
      "|  0%   39C    P8             N/A /  120W |     604MiB /   8188MiB |     24%      Default |\n",
      "|                                         |                        |                  N/A |\n",
      "+-----------------------------------------+------------------------+----------------------+\n",
      "                                                                                         \n",
      "+-----------------------------------------------------------------------------------------+\n",
      "| Processes:                                                                              |\n",
      "|  GPU   GI   CI        PID   Type   Process name                              GPU Memory |\n",
      "|        ID   ID                                                               Usage      |\n",
      "|=========================================================================================|\n",
      "|    0   N/A  N/A      1428    C+G   ...m Files\\Mozilla Firefox\\firefox.exe      N/A      |\n",
      "|    0   N/A  N/A      2180    C+G   ...Programs\\Microsoft VS Code\\Code.exe      N/A      |\n",
      "|    0   N/A  N/A      3088    C+G   ...m Files\\Mozilla Firefox\\firefox.exe      N/A      |\n",
      "|    0   N/A  N/A      4296    C+G   ...\\cef\\cef.win7x64\\steamwebhelper.exe      N/A      |\n",
      "|    0   N/A  N/A     10024    C+G   C:\\Windows\\System32\\NahimicSvc64.exe        N/A      |\n",
      "|    0   N/A  N/A     10260    C+G   ...ekyb3d8bbwe\\PhoneExperienceHost.exe      N/A      |\n",
      "|    0   N/A  N/A     10496    C+G   ...t.LockApp_cw5n1h2txyewy\\LockApp.exe      N/A      |\n",
      "|    0   N/A  N/A     17760    C+G   ...\\cef\\cef.win7x64\\steamwebhelper.exe      N/A      |\n",
      "|    0   N/A  N/A     17828    C+G   ...1.0_x64__w2gh52qy24etm\\Nahimic3.exe      N/A      |\n",
      "|    0   N/A  N/A     19084    C+G   C:\\Windows\\explorer.exe                     N/A      |\n",
      "|    0   N/A  N/A     21032    C+G   ...siveControlPanel\\SystemSettings.exe      N/A      |\n",
      "|    0   N/A  N/A     22604    C+G   ...nt.CBS_cw5n1h2txyewy\\SearchHost.exe      N/A      |\n",
      "|    0   N/A  N/A     22896    C+G   ...2txyewy\\StartMenuExperienceHost.exe      N/A      |\n",
      "+-----------------------------------------------------------------------------------------+\n"
     ]
    }
   ],
   "source": [
    "!nvidia-smi"
   ]
  },
  {
   "cell_type": "markdown",
   "metadata": {},
   "source": [
    "## Sample\n",
    "\n",
    "We will be using the ICT curriculum because why not?"
   ]
  },
  {
   "cell_type": "markdown",
   "metadata": {},
   "source": [
    "1. We slice the file into smaller chunks of text as \"context\"\n",
    "2. Embed the texts into numerical format using embedding models\n",
    "3. Store them in database or PyTorch tensors"
   ]
  },
  {
   "cell_type": "markdown",
   "metadata": {},
   "source": [
    "## What we are doing\n",
    "\n",
    "### Document Preprocessing and Embedding Creation\n",
    "\n",
    "1. Open a PDF document (or even a collections of PDFs)\n",
    "2. Format the text of the PDF ready for an embedding model.\n",
    "3. Embed all of the chunks of text in the textbook and turn them into numerical representations (embedding) which we can store for later.\n",
    "\n",
    "### Search and Answer\n",
    "\n",
    "4. Build a retrieval system that uses **Vector Search** to find relevant chunk of text based on a *query*.\n",
    "5. Create a prompt that incorporates the retrieved pieces of text.\n",
    "6. Generate an answer to a query based on the passages of the textbook with an LLM."
   ]
  },
  {
   "cell_type": "markdown",
   "metadata": {},
   "source": [
    "<hr>"
   ]
  },
  {
   "cell_type": "markdown",
   "metadata": {},
   "source": [
    "# Steps:"
   ]
  },
  {
   "cell_type": "markdown",
   "metadata": {},
   "source": [
    "## 1. Document Preprocessing and Embedding Creation"
   ]
  },
  {
   "cell_type": "markdown",
   "metadata": {},
   "source": [
    "**Requirement**:\n",
    "1. PDF Document (or any type of document)\n",
    "2. Embedding Model of choice\n",
    "\n",
    "**Steps**:\n",
    "1. Import PDF document.\n",
    "2. Process text for embedding \n",
    "    * (eg. splitting into chunks of sentenses)\n",
    "3. Embed text chunks with embedding model\n",
    "4. Save embeddings to file"
   ]
  },
  {
   "cell_type": "markdown",
   "metadata": {},
   "source": [
    "### 1.1 Import PDF Document"
   ]
  },
  {
   "cell_type": "code",
   "execution_count": 2,
   "metadata": {},
   "outputs": [
    {
     "name": "stdout",
     "output_type": "stream",
     "text": [
      "File curriculum.pdf Existed: Skipping\n"
     ]
    }
   ],
   "source": [
    "import os\n",
    "import requests\n",
    "\n",
    "# Get PDF document path\n",
    "pdf_path = \"curriculum.pdf\"\n",
    "\n",
    "# Download PDF\n",
    "if not os.path.exists(pdf_path):\n",
    "    print(f\"{pdf_path} does not exist\")\n",
    "    \n",
    "    # Enter the URL of the PDF\n",
    "    url = \"https://www.ict.mahidol.ac.th/wp-content/uploads/2021/05/ICT2018-TQF2_Webversion_English.pdf\"\n",
    "    \n",
    "    # The local filename to save the downloaded file\n",
    "    filename = pdf_path\n",
    "    \n",
    "    # Send a GET request to the URL\n",
    "    response = requests.get(url)\n",
    "    \n",
    "    # Check if successful\n",
    "    if response.status_code == 200:\n",
    "        # Open the file and save it\n",
    "        with open(filename, \"wb\") as f:\n",
    "            f.write(response.content)\n",
    "        print(f\"File {filename} downloaded\")\n",
    "    else:\n",
    "        print(f\"Failed to download file: {response.status_code}\")\n",
    "        \n",
    "else:\n",
    "    print(f\"File {pdf_path} Existed: Skipping\")"
   ]
  },
  {
   "cell_type": "markdown",
   "metadata": {},
   "source": [
    "### 1.2 Open PDF Document"
   ]
  },
  {
   "cell_type": "markdown",
   "metadata": {},
   "source": [
    "There are multiple PDF-related modules, the tutorial uses [PyMuPDF](https://pymupdf.readthedocs.io/en/latest/)"
   ]
  },
  {
   "cell_type": "code",
   "execution_count": 3,
   "metadata": {},
   "outputs": [
    {
     "name": "stdout",
     "output_type": "stream",
     "text": [
      "None\n"
     ]
    }
   ],
   "source": [
    "import fitz # PyMuPDF (Fitz is legacy/backward compatible)\n",
    "print(fitz.__doc__)"
   ]
  },
  {
   "cell_type": "code",
   "execution_count": 4,
   "metadata": {},
   "outputs": [
    {
     "name": "stdout",
     "output_type": "stream",
     "text": [
      "\n",
      "    Asynchronous-friendly version of tqdm.\n",
      "    \n"
     ]
    },
    {
     "name": "stderr",
     "output_type": "stream",
     "text": [
      "c:\\Users\\User\\miniconda3\\envs\\llm\\Lib\\site-packages\\tqdm\\auto.py:21: TqdmWarning: IProgress not found. Please update jupyter and ipywidgets. See https://ipywidgets.readthedocs.io/en/stable/user_install.html\n",
      "  from .autonotebook import tqdm as notebook_tqdm\n"
     ]
    }
   ],
   "source": [
    "# Progress Bar looks cool\n",
    "from tqdm.auto import tqdm\n",
    "print(tqdm.__doc__)"
   ]
  },
  {
   "cell_type": "code",
   "execution_count": 5,
   "metadata": {},
   "outputs": [],
   "source": [
    "# Perform text formatting\n",
    "# Because raw PDF copy-pasting doesn't really work well\n",
    "def text_formatter(text: str) -> str:\n",
    "    \"\"\"Performs minor formatting on text\n",
    "\n",
    "    Args:\n",
    "        text (str): _description_\n",
    "\n",
    "    Returns:\n",
    "        str: Formatted Text through various functions\n",
    "    \"\"\"\n",
    "    \n",
    "    # Strip trailing spaces\n",
    "    # Replace \"\\n\" with \" \"\n",
    "    cleaned_text = text.replace(\"\\n\", \" \").strip()\n",
    "    \n",
    "    # Potentially more text formatting functions go here\n",
    "    # Better text = Better LLM\n",
    "    \n",
    "    return cleaned_text"
   ]
  },
  {
   "cell_type": "code",
   "execution_count": 6,
   "metadata": {},
   "outputs": [],
   "source": [
    "def read_pdf(pdf_path: str) -> list[dict]:\n",
    "    doc = fitz.open(pdf_path)\n",
    "    pages_and_texts = []\n",
    "    \n",
    "    # Loop through the doc with tqdm progress bar \n",
    "    # Page number and page content\n",
    "    for page_number, page in tqdm(enumerate(doc)):\n",
    "        text = page.get_text()\n",
    "        text = text_formatter(text=text)\n",
    "        # Experiment with page number if you want\n",
    "        pages_and_texts.append({\n",
    "            \"page_number\": page_number - 3, # Page number start appearing at page 4\n",
    "            \"page_char_count\": len(text),\n",
    "            \"page_word_count\": len(text.split(' ')),\n",
    "            \"page_sentence_count_raw\": len(text.split('. ')),\n",
    "            \"page_token_count\": len(text) / 4, # 1 English Word = ~4 tokens\n",
    "            \"text\": text\n",
    "                                })\n",
    "    \n",
    "    return pages_and_texts"
   ]
  },
  {
   "cell_type": "markdown",
   "metadata": {},
   "source": [
    "**Token**: A sub-word pieve of textA sub-word piece of text. For example, \"hello, world!\" could be split into [\"hello\", \",\", \"world\", \"!\"]. \n",
    "\n",
    "A token can be a whole word,\n",
    "part of a word or group of punctuation characters. 1 token ~= 4 characters in English, 100 tokens ~= 75 words.\n",
    "Text gets broken into tokens before being passed to an LLM.. "
   ]
  },
  {
   "cell_type": "markdown",
   "metadata": {},
   "source": [
    "### 1.3 Testing parsing and reading of PDF"
   ]
  },
  {
   "cell_type": "code",
   "execution_count": 7,
   "metadata": {},
   "outputs": [
    {
     "name": "stderr",
     "output_type": "stream",
     "text": [
      "106it [00:00, 481.77it/s]\n"
     ]
    },
    {
     "data": {
      "text/plain": [
       "[{'page_number': -3,\n",
       "  'page_char_count': 198,\n",
       "  'page_word_count': 41,\n",
       "  'page_sentence_count_raw': 1,\n",
       "  'page_token_count': 49.5,\n",
       "  'text': 'Bachelor of Science   in Information and Communication Technology (ICT)  (International Program)  2018 Revision                Faculty of Information and Communication Technology  Mahidol University'},\n",
       " {'page_number': -2,\n",
       "  'page_char_count': 5270,\n",
       "  'page_word_count': 341,\n",
       "  'page_sentence_count_raw': 65,\n",
       "  'page_token_count': 1317.5,\n",
       "  'text': 'Table of Contents  SECTION 1.  GENERAL INFORMATION  .......................................................................................................................................... 1  1.  PROGRAM TITLE ..................................................................................................................................................................... 1  2.  DEGREE TITLE ........................................................................................................................................................................ 1  3.  MAJOR OR MINOR SUBJECTS (IF ANY) ....................................................................................................................................... 1  4.  TOTAL NUMBER OF CREDITS .................................................................................................................................................... 1  5.  PROGRAM CHARACTERISTICS .................................................................................................................................................. 1  6.  PROGRAM STATUS AND PROGRAM APPROVAL ............................................................................................................................ 2  7.  THE ABILITY TO IMPLEMENT/PROMOTE THE PROGRAM  ................................................................................................................. 2  8.  POSSIBLE CAREERS FOR THE GRADUATES ................................................................................................................................. 2  9.  LIST OF THE PROGRAM FACULTY MEMBERS ................................................................................................................................ 2  10.  VENUE TO CONDUCT THE STUDY .............................................................................................................................................. 3  11.  EXTERNAL CONTEXTS OR DEVELOPMENTS AFFECTING PROGRAM PLANNING .................................................................................. 3  12.  IMPACTS OF NO. 11.1 AND 11.2 ON THE PROGRAM DEVELOPMENT AND ITS RELEVANCE TO THE MISSIONS OF THE INSTITUTE ............. 4  13.  COOPERATION WITH THE OTHER PROGRAMS WITHIN THE INSTITUTE (IF ANY) ................................................................................. 5  SECTION 2.  PROGRAM SPECIFIC INFORMATION ...................................................................................................................... 7  1.  PHILOSOPHY, SIGNIFICANCE, AND OBJECTIVES OF THE PROGRAM ................................................................................................ 7  2.  PLAN FOR DEVELOPMENT AND REVISION ................................................................................................................................... 8  3.  EXPECTED LEARNING OUTCOMES (LOS) .................................................................................................................................. 9  SECTION 3.  EDUCATIONAL MANAGEMENT SYSTEM,  CURRICULUM IMPLEMENTATION AND STRUCTURE ................ 11  1.  EDUCATIONAL MANAGEMENT SYSTEM  .................................................................................................................................... 11  2.  PROGRAM IMPLEMENTATION ................................................................................................................................................. 11  3.  PROGRAM AND LECTURERS  ................................................................................................................................................... 14  4.  FIELD EXPERIENCE COURSES (INTERNSHIP OR COOPERATIVE EDUCATION) ................................................................................ 67  5.  REQUIREMENTS ON PROJECT AND RESEARCH .......................................................................................................................... 68  SECTION 4.  LEARNING OUTCOMES, TEACHING STRATEGIES, AND ASSESSMENT STRATEGIES ................................. 70  1.  DEVELOPMENT OF STUDENTS’ SPECIAL CHARACTERISTICS ....................................................................................................... 70  2.  MAPPING DESCRIBING LEARNING OUTCOMES, TEACHING AND LEARNING METHODS, AND STUDENT ASSESSMENT METHODS ............. 71  SECTION 5: STUDENT ASSESSMENT CRITERIA  ........................................................................................................................ 74  1.  REGULATIONS AND CRITERIA FOR GRADING............................................................................................................................. 74  2.  VERIFICATION OF THE STANDARDS OF STUDENT ACHIEVEMENTS................................................................................................. 75  3.  GARDUATION REQUIREMENTS ............................................................................................................................................... 76  4.  STUDENT APPEAL ................................................................................................................................................................. 77'}]"
      ]
     },
     "execution_count": 7,
     "metadata": {},
     "output_type": "execute_result"
    }
   ],
   "source": [
    "# Testing\n",
    "pages_and_text = read_pdf(pdf_path=pdf_path)\n",
    "pages_and_text[:2] # First 2 samples"
   ]
  },
  {
   "cell_type": "code",
   "execution_count": 8,
   "metadata": {},
   "outputs": [
    {
     "data": {
      "text/plain": [
       "[{'page_number': 57,\n",
       "  'page_char_count': 1581,\n",
       "  'page_word_count': 310,\n",
       "  'page_sentence_count_raw': 2,\n",
       "  'page_token_count': 395.25,\n",
       "  'text': 'Degree    \\uf052 Bachelor       Master        Ph.D.                 Information and Communication Technology  TQF2 Bachelor of Science in Information and Communication Technology (International Program)                 57    ITCS 473  Software Quality Assurance and Testing  3 (3 – 0 – 6)  Prerequisite    : ITCS 371  Co-requisite : None      Software quality assurance process;  avoidance of errors and other quality problems;  inspection and reviews; testing, verification and validation technique; process assurance versus  product assurance; quality process standards; product and process assurance; problem  analysis and reporting; statistical approaches to quality control  ITCS 475  Mathematical Programming  3 (3 – 0 – 6)  Prerequisite    : None  Co-requisite : None     Linear programming; integer linear programming; zero-one integer programming; branch  and bound algorithms; dynamic programming; transportation problem; traveling salesman  problem; optimization on networks such as shortest path problem and minimum spanning tree  problem; network scheduling problems  ITCS 476  Digital Image Processing  3 (3 – 0 – 6)  Prerequisite    : ITCS 451  Co-requisite : None     Fundamentals of image processing; Programming and software tools for image  processing; image display; basic image processing; image geometry; image enhancement;  image restoration; image segmentation; representation and description; object recognition;  image compression; color image processing  ITCS 481  Computer Graphics  3 (3 – 0 – 6)  Prerequisite    : ITCS 201 and ITCS 231  Co-requisite : None'}]"
      ]
     },
     "execution_count": 8,
     "metadata": {},
     "output_type": "execute_result"
    }
   ],
   "source": [
    "# Random sample\n",
    "import random\n",
    "random.sample(pages_and_text, k=1)"
   ]
  },
  {
   "cell_type": "markdown",
   "metadata": {},
   "source": [
    "### 1.4 Performing some exploratory analysis"
   ]
  },
  {
   "cell_type": "code",
   "execution_count": 9,
   "metadata": {},
   "outputs": [
    {
     "data": {
      "text/html": [
       "<div>\n",
       "<style scoped>\n",
       "    .dataframe tbody tr th:only-of-type {\n",
       "        vertical-align: middle;\n",
       "    }\n",
       "\n",
       "    .dataframe tbody tr th {\n",
       "        vertical-align: top;\n",
       "    }\n",
       "\n",
       "    .dataframe thead th {\n",
       "        text-align: right;\n",
       "    }\n",
       "</style>\n",
       "<table border=\"1\" class=\"dataframe\">\n",
       "  <thead>\n",
       "    <tr style=\"text-align: right;\">\n",
       "      <th></th>\n",
       "      <th>page_number</th>\n",
       "      <th>page_char_count</th>\n",
       "      <th>page_word_count</th>\n",
       "      <th>page_sentence_count_raw</th>\n",
       "      <th>page_token_count</th>\n",
       "      <th>text</th>\n",
       "    </tr>\n",
       "  </thead>\n",
       "  <tbody>\n",
       "    <tr>\n",
       "      <th>0</th>\n",
       "      <td>-3</td>\n",
       "      <td>198</td>\n",
       "      <td>41</td>\n",
       "      <td>1</td>\n",
       "      <td>49.50</td>\n",
       "      <td>Bachelor of Science   in Information and Commu...</td>\n",
       "    </tr>\n",
       "    <tr>\n",
       "      <th>1</th>\n",
       "      <td>-2</td>\n",
       "      <td>5270</td>\n",
       "      <td>341</td>\n",
       "      <td>65</td>\n",
       "      <td>1317.50</td>\n",
       "      <td>Table of Contents  SECTION 1.  GENERAL INFORMA...</td>\n",
       "    </tr>\n",
       "    <tr>\n",
       "      <th>2</th>\n",
       "      <td>-1</td>\n",
       "      <td>1495</td>\n",
       "      <td>86</td>\n",
       "      <td>15</td>\n",
       "      <td>373.75</td>\n",
       "      <td>SECTION 6: ACADEMIC STAFF DEVELOPMENT ...........</td>\n",
       "    </tr>\n",
       "    <tr>\n",
       "      <th>3</th>\n",
       "      <td>0</td>\n",
       "      <td>1252</td>\n",
       "      <td>273</td>\n",
       "      <td>10</td>\n",
       "      <td>313.00</td>\n",
       "      <td>Degree     Bachelor       Master        Ph.D....</td>\n",
       "    </tr>\n",
       "    <tr>\n",
       "      <th>4</th>\n",
       "      <td>1</td>\n",
       "      <td>1630</td>\n",
       "      <td>314</td>\n",
       "      <td>13</td>\n",
       "      <td>407.50</td>\n",
       "      <td>Degree     Bachelor       Master        Ph.D....</td>\n",
       "    </tr>\n",
       "  </tbody>\n",
       "</table>\n",
       "</div>"
      ],
      "text/plain": [
       "   page_number  page_char_count  page_word_count  page_sentence_count_raw  \\\n",
       "0           -3              198               41                        1   \n",
       "1           -2             5270              341                       65   \n",
       "2           -1             1495               86                       15   \n",
       "3            0             1252              273                       10   \n",
       "4            1             1630              314                       13   \n",
       "\n",
       "   page_token_count                                               text  \n",
       "0             49.50  Bachelor of Science   in Information and Commu...  \n",
       "1           1317.50  Table of Contents  SECTION 1.  GENERAL INFORMA...  \n",
       "2            373.75  SECTION 6: ACADEMIC STAFF DEVELOPMENT ...........  \n",
       "3            313.00  Degree     Bachelor       Master        Ph.D....  \n",
       "4            407.50  Degree     Bachelor       Master        Ph.D....  "
      ]
     },
     "execution_count": 9,
     "metadata": {},
     "output_type": "execute_result"
    }
   ],
   "source": [
    "import pandas as pd\n",
    "\n",
    "# The reason we made it a list of dictionary\n",
    "df = pd.DataFrame(pages_and_text)\n",
    "df.head()"
   ]
  },
  {
   "cell_type": "code",
   "execution_count": 10,
   "metadata": {},
   "outputs": [
    {
     "data": {
      "text/html": [
       "<div>\n",
       "<style scoped>\n",
       "    .dataframe tbody tr th:only-of-type {\n",
       "        vertical-align: middle;\n",
       "    }\n",
       "\n",
       "    .dataframe tbody tr th {\n",
       "        vertical-align: top;\n",
       "    }\n",
       "\n",
       "    .dataframe thead th {\n",
       "        text-align: right;\n",
       "    }\n",
       "</style>\n",
       "<table border=\"1\" class=\"dataframe\">\n",
       "  <thead>\n",
       "    <tr style=\"text-align: right;\">\n",
       "      <th></th>\n",
       "      <th>page_number</th>\n",
       "      <th>page_char_count</th>\n",
       "      <th>page_word_count</th>\n",
       "      <th>page_sentence_count_raw</th>\n",
       "      <th>page_token_count</th>\n",
       "    </tr>\n",
       "  </thead>\n",
       "  <tbody>\n",
       "    <tr>\n",
       "      <th>count</th>\n",
       "      <td>106.000000</td>\n",
       "      <td>106.000000</td>\n",
       "      <td>106.000000</td>\n",
       "      <td>106.000000</td>\n",
       "      <td>106.000000</td>\n",
       "    </tr>\n",
       "    <tr>\n",
       "      <th>mean</th>\n",
       "      <td>49.500000</td>\n",
       "      <td>1787.084906</td>\n",
       "      <td>377.443396</td>\n",
       "      <td>7.094340</td>\n",
       "      <td>446.771226</td>\n",
       "    </tr>\n",
       "    <tr>\n",
       "      <th>std</th>\n",
       "      <td>30.743563</td>\n",
       "      <td>474.917479</td>\n",
       "      <td>127.838520</td>\n",
       "      <td>8.356951</td>\n",
       "      <td>118.729370</td>\n",
       "    </tr>\n",
       "    <tr>\n",
       "      <th>min</th>\n",
       "      <td>-3.000000</td>\n",
       "      <td>198.000000</td>\n",
       "      <td>41.000000</td>\n",
       "      <td>1.000000</td>\n",
       "      <td>49.500000</td>\n",
       "    </tr>\n",
       "    <tr>\n",
       "      <th>25%</th>\n",
       "      <td>23.250000</td>\n",
       "      <td>1594.500000</td>\n",
       "      <td>322.000000</td>\n",
       "      <td>2.000000</td>\n",
       "      <td>398.625000</td>\n",
       "    </tr>\n",
       "    <tr>\n",
       "      <th>50%</th>\n",
       "      <td>49.500000</td>\n",
       "      <td>1801.000000</td>\n",
       "      <td>349.000000</td>\n",
       "      <td>2.500000</td>\n",
       "      <td>450.250000</td>\n",
       "    </tr>\n",
       "    <tr>\n",
       "      <th>75%</th>\n",
       "      <td>75.750000</td>\n",
       "      <td>1951.750000</td>\n",
       "      <td>387.000000</td>\n",
       "      <td>11.000000</td>\n",
       "      <td>487.937500</td>\n",
       "    </tr>\n",
       "    <tr>\n",
       "      <th>max</th>\n",
       "      <td>102.000000</td>\n",
       "      <td>5270.000000</td>\n",
       "      <td>812.000000</td>\n",
       "      <td>65.000000</td>\n",
       "      <td>1317.500000</td>\n",
       "    </tr>\n",
       "  </tbody>\n",
       "</table>\n",
       "</div>"
      ],
      "text/plain": [
       "       page_number  page_char_count  page_word_count  page_sentence_count_raw  \\\n",
       "count   106.000000       106.000000       106.000000               106.000000   \n",
       "mean     49.500000      1787.084906       377.443396                 7.094340   \n",
       "std      30.743563       474.917479       127.838520                 8.356951   \n",
       "min      -3.000000       198.000000        41.000000                 1.000000   \n",
       "25%      23.250000      1594.500000       322.000000                 2.000000   \n",
       "50%      49.500000      1801.000000       349.000000                 2.500000   \n",
       "75%      75.750000      1951.750000       387.000000                11.000000   \n",
       "max     102.000000      5270.000000       812.000000                65.000000   \n",
       "\n",
       "       page_token_count  \n",
       "count        106.000000  \n",
       "mean         446.771226  \n",
       "std          118.729370  \n",
       "min           49.500000  \n",
       "25%          398.625000  \n",
       "50%          450.250000  \n",
       "75%          487.937500  \n",
       "max         1317.500000  "
      ]
     },
     "execution_count": 10,
     "metadata": {},
     "output_type": "execute_result"
    }
   ],
   "source": [
    "df.describe()"
   ]
  },
  {
   "cell_type": "markdown",
   "metadata": {},
   "source": [
    "**Average Token Per Page**: `447`\n",
    "\n",
    "Why care about Token?\n",
    "\n",
    "Token is important concept because:\n",
    "1. Embedding Models don't deal with infinite tokens.\n",
    "2. LLMs don't deal with infinite tokens.\n",
    "\n",
    "For example an embedding model may be trained to embed sequence of `384` tokens into numerical space. \n",
    "\n",
    "As for LLMs, they can't accept infinite number of Tokens into their **LLM Context Window**.\n"
   ]
  },
  {
   "cell_type": "markdown",
   "metadata": {},
   "source": [
    "### 1.5 Splitting each page into sentences\n",
    "\n",
    "Possible Ways:\n",
    "1. Splitting on `\".\"`\n",
    "2. Using an NLP library eg. nltk, spacy"
   ]
  },
  {
   "cell_type": "code",
   "execution_count": 12,
   "metadata": {},
   "outputs": [
    {
     "data": {
      "text/plain": [
       "[This is a sentence.,\n",
       " This is another sentence, according to this.,\n",
       " Hello World!]"
      ]
     },
     "execution_count": 12,
     "metadata": {},
     "output_type": "execute_result"
    }
   ],
   "source": [
    "from spacy.lang.en import English\n",
    "\n",
    "nlp = English()\n",
    "\n",
    "# Build a sentencizer pipeline.\n",
    "nlp.add_pipe(\"sentencizer\")\n",
    "\n",
    "# Create document instance as an exxample.\n",
    "doc = nlp(\"This is a sentence. This is another sentence, according to this. Hello World!\")\n",
    "assert len(list(doc.sents)) == 3\n",
    "\n",
    "# Print out our sentences split\n",
    "list(doc.sents)"
   ]
  },
  {
   "cell_type": "code",
   "execution_count": 13,
   "metadata": {},
   "outputs": [
    {
     "data": {
      "text/plain": [
       "{'page_number': -3,\n",
       " 'page_char_count': 198,\n",
       " 'page_word_count': 41,\n",
       " 'page_sentence_count_raw': 1,\n",
       " 'page_token_count': 49.5,\n",
       " 'text': 'Bachelor of Science   in Information and Communication Technology (ICT)  (International Program)  2018 Revision                Faculty of Information and Communication Technology  Mahidol University'}"
      ]
     },
     "execution_count": 13,
     "metadata": {},
     "output_type": "execute_result"
    }
   ],
   "source": [
    "pages_and_text[0]"
   ]
  },
  {
   "cell_type": "code",
   "execution_count": 14,
   "metadata": {},
   "outputs": [
    {
     "name": "stderr",
     "output_type": "stream",
     "text": [
      "100%|██████████| 106/106 [00:00<00:00, 342.62it/s]\n"
     ]
    }
   ],
   "source": [
    "for item in tqdm(pages_and_text):\n",
    "    item[\"sentences\"] = list(nlp(item[\"text\"]).sents)\n",
    "    \n",
    "    # Make sure all sentences are strings (Default = Spacy)\n",
    "    item[\"sentences\"] = [str(sentence) for sentence in item[\"sentences\"]]\n",
    "    \n",
    "    # Count the sentences\n",
    "    item[\"page_sentence_count_spacy\"] = len(item['sentences'])"
   ]
  },
  {
   "cell_type": "code",
   "execution_count": 15,
   "metadata": {},
   "outputs": [
    {
     "data": {
      "text/plain": [
       "[{'page_number': 11,\n",
       "  'page_char_count': 1448,\n",
       "  'page_word_count': 289,\n",
       "  'page_sentence_count_raw': 8,\n",
       "  'page_token_count': 362.0,\n",
       "  'text': 'Degree    \\uf052 Bachelor       Master        Ph.D.                 Information and Communication Technology  TQF2 Bachelor of Science in Information and Communication Technology (International Program)                 11    Section 3.  Educational Management System,   Curriculum Implementation and Structure  1. Educational Management System  1.1 System  A bimester system, with two regular semesters and one special semester (also called the  “summer semester”) in an academic year.   1.2 Summer session  Summer session is offered depending on Program Faculty Members consideration   1.3 Credit equivalent to semester system  Credits transferring is applicable according to the regulations announced by Mahidol  University  1.4 Course Exempt  Course exemption is applicable according to the regulations announced by Faculty of ICT,  Mahidol University and Program Faculty Members consideration   2. Program Implementation   2.1  Teaching schedule   Typical semester schedule:  1st Semester    :  August to December  2nd Semester    :  January to May  Summer semester  :  June to August   Typical class hours:  Monday – Friday during official hours (09:00 – 16:00)  Some classes and laboratory activities may be held outside of these typical hours  and possibly during weekends.   2.2  Qualifications of prospective students  1. Graduated and hold a high-school (Grade 12) diploma or its equivalent certificate in the science  and mathematics program.',\n",
       "  'sentences': ['Degree    \\uf052 Bachelor       Master        Ph.D.                 Information and Communication Technology  TQF2 Bachelor of Science in Information and Communication Technology (International Program)                 11    Section 3.',\n",
       "   ' Educational Management System,   Curriculum Implementation and Structure  1.',\n",
       "   'Educational Management System  1.1 System  A bimester system, with two regular semesters and one special semester (also called the  “summer semester”) in an academic year.',\n",
       "   '  1.2 Summer session  Summer session is offered depending on Program Faculty Members consideration   1.3 Credit equivalent to semester system  Credits transferring is applicable according to the regulations announced by Mahidol  University  1.4 Course Exempt  Course exemption is applicable according to the regulations announced by Faculty of ICT,  Mahidol University and Program Faculty Members consideration   2.',\n",
       "   'Program Implementation   2.1  Teaching schedule   Typical semester schedule:  1st Semester    :  August to December  2nd Semester    :  January to May  Summer semester  :  June to August   Typical class hours:  Monday – Friday during official hours (09:00 – 16:00)  Some classes and laboratory activities may be held outside of these typical hours  and possibly during weekends.',\n",
       "   '  2.2  Qualifications of prospective students  1.',\n",
       "   'Graduated and hold a high-school (Grade 12) diploma or its equivalent certificate in the science  and mathematics program.'],\n",
       "  'page_sentence_count_spacy': 7}]"
      ]
     },
     "execution_count": 15,
     "metadata": {},
     "output_type": "execute_result"
    }
   ],
   "source": [
    "random.sample(pages_and_text, k=1)"
   ]
  },
  {
   "cell_type": "code",
   "execution_count": 16,
   "metadata": {},
   "outputs": [
    {
     "data": {
      "text/html": [
       "<div>\n",
       "<style scoped>\n",
       "    .dataframe tbody tr th:only-of-type {\n",
       "        vertical-align: middle;\n",
       "    }\n",
       "\n",
       "    .dataframe tbody tr th {\n",
       "        vertical-align: top;\n",
       "    }\n",
       "\n",
       "    .dataframe thead th {\n",
       "        text-align: right;\n",
       "    }\n",
       "</style>\n",
       "<table border=\"1\" class=\"dataframe\">\n",
       "  <thead>\n",
       "    <tr style=\"text-align: right;\">\n",
       "      <th></th>\n",
       "      <th>page_number</th>\n",
       "      <th>page_char_count</th>\n",
       "      <th>page_word_count</th>\n",
       "      <th>page_sentence_count_raw</th>\n",
       "      <th>page_token_count</th>\n",
       "      <th>page_sentence_count_spacy</th>\n",
       "    </tr>\n",
       "  </thead>\n",
       "  <tbody>\n",
       "    <tr>\n",
       "      <th>count</th>\n",
       "      <td>106.00</td>\n",
       "      <td>106.00</td>\n",
       "      <td>106.00</td>\n",
       "      <td>106.00</td>\n",
       "      <td>106.00</td>\n",
       "      <td>106.00</td>\n",
       "    </tr>\n",
       "    <tr>\n",
       "      <th>mean</th>\n",
       "      <td>49.50</td>\n",
       "      <td>1787.08</td>\n",
       "      <td>377.44</td>\n",
       "      <td>7.09</td>\n",
       "      <td>446.77</td>\n",
       "      <td>5.10</td>\n",
       "    </tr>\n",
       "    <tr>\n",
       "      <th>std</th>\n",
       "      <td>30.74</td>\n",
       "      <td>474.92</td>\n",
       "      <td>127.84</td>\n",
       "      <td>8.36</td>\n",
       "      <td>118.73</td>\n",
       "      <td>5.99</td>\n",
       "    </tr>\n",
       "    <tr>\n",
       "      <th>min</th>\n",
       "      <td>-3.00</td>\n",
       "      <td>198.00</td>\n",
       "      <td>41.00</td>\n",
       "      <td>1.00</td>\n",
       "      <td>49.50</td>\n",
       "      <td>1.00</td>\n",
       "    </tr>\n",
       "    <tr>\n",
       "      <th>25%</th>\n",
       "      <td>23.25</td>\n",
       "      <td>1594.50</td>\n",
       "      <td>322.00</td>\n",
       "      <td>2.00</td>\n",
       "      <td>398.62</td>\n",
       "      <td>1.00</td>\n",
       "    </tr>\n",
       "    <tr>\n",
       "      <th>50%</th>\n",
       "      <td>49.50</td>\n",
       "      <td>1801.00</td>\n",
       "      <td>349.00</td>\n",
       "      <td>2.50</td>\n",
       "      <td>450.25</td>\n",
       "      <td>1.00</td>\n",
       "    </tr>\n",
       "    <tr>\n",
       "      <th>75%</th>\n",
       "      <td>75.75</td>\n",
       "      <td>1951.75</td>\n",
       "      <td>387.00</td>\n",
       "      <td>11.00</td>\n",
       "      <td>487.94</td>\n",
       "      <td>8.00</td>\n",
       "    </tr>\n",
       "    <tr>\n",
       "      <th>max</th>\n",
       "      <td>102.00</td>\n",
       "      <td>5270.00</td>\n",
       "      <td>812.00</td>\n",
       "      <td>65.00</td>\n",
       "      <td>1317.50</td>\n",
       "      <td>33.00</td>\n",
       "    </tr>\n",
       "  </tbody>\n",
       "</table>\n",
       "</div>"
      ],
      "text/plain": [
       "       page_number  page_char_count  page_word_count  page_sentence_count_raw  \\\n",
       "count       106.00           106.00           106.00                   106.00   \n",
       "mean         49.50          1787.08           377.44                     7.09   \n",
       "std          30.74           474.92           127.84                     8.36   \n",
       "min          -3.00           198.00            41.00                     1.00   \n",
       "25%          23.25          1594.50           322.00                     2.00   \n",
       "50%          49.50          1801.00           349.00                     2.50   \n",
       "75%          75.75          1951.75           387.00                    11.00   \n",
       "max         102.00          5270.00           812.00                    65.00   \n",
       "\n",
       "       page_token_count  page_sentence_count_spacy  \n",
       "count            106.00                     106.00  \n",
       "mean             446.77                       5.10  \n",
       "std              118.73                       5.99  \n",
       "min               49.50                       1.00  \n",
       "25%              398.62                       1.00  \n",
       "50%              450.25                       1.00  \n",
       "75%              487.94                       8.00  \n",
       "max             1317.50                      33.00  "
      ]
     },
     "execution_count": 16,
     "metadata": {},
     "output_type": "execute_result"
    }
   ],
   "source": [
    "df = pd.DataFrame(pages_and_text)\n",
    "df.describe().round(2)"
   ]
  },
  {
   "cell_type": "markdown",
   "metadata": {},
   "source": [
    "### 1.6 Chunking sentences together\n",
    "\n",
    "The concept of splitting larger pieces of text intoo smaller ones is often referred to as text splitting or chunking.\n",
    "\n",
    "Reasons:\n",
    "1. Easier to filter.\n",
    "2. Can fit into embedding model context window\n",
    "3. LLM can have more specific and focused contexts\n",
    "\n",
    "Try experimenting with chunk size if wanted.\n",
    "\n",
    "Tools such as LangChain can be used."
   ]
  },
  {
   "cell_type": "code",
   "execution_count": 28,
   "metadata": {},
   "outputs": [
    {
     "data": {
      "text/plain": [
       "[[0, 1, 2, 3, 4, 5, 6, 7],\n",
       " [8, 9, 10, 11, 12, 13, 14, 15],\n",
       " [16, 17, 18, 19, 20, 21, 22, 23],\n",
       " [24]]"
      ]
     },
     "execution_count": 28,
     "metadata": {},
     "output_type": "execute_result"
    }
   ],
   "source": [
    "num_sentence_chunk_size = 8\n",
    "\n",
    "# A function to split lists of texts recursively into chunk size\n",
    "def split_list(input_list: list[str], slice_size: int=num_sentence_chunk_size) -> list[list[str]]:\n",
    "    return [input_list[i:i+slice_size] for i in range(0, len(input_list), slice_size)]\n",
    "\n",
    "test_list = list(range(25))\n",
    "split_list(test_list)"
   ]
  },
  {
   "cell_type": "code",
   "execution_count": 29,
   "metadata": {},
   "outputs": [
    {
     "name": "stderr",
     "output_type": "stream",
     "text": [
      "100%|██████████| 106/106 [00:00<?, ?it/s]\n"
     ]
    }
   ],
   "source": [
    "# Loop through pages and texts and split sentences into chunks\n",
    "for item in tqdm(pages_and_text):\n",
    "    item[\"sentence_chunk\"] = split_list(input_list=item['sentences'],\n",
    "                                        slice_size=num_sentence_chunk_size)\n",
    "    item[\"num_chunk\"] = len(item['sentence_chunk'])"
   ]
  },
  {
   "cell_type": "code",
   "execution_count": 32,
   "metadata": {},
   "outputs": [
    {
     "data": {
      "text/plain": [
       "[{'page_number': 70,\n",
       "  'page_char_count': 1695,\n",
       "  'page_word_count': 320,\n",
       "  'page_sentence_count_raw': 11,\n",
       "  'page_token_count': 423.75,\n",
       "  'text': 'Degree    \\uf052 Bachelor       Master        Ph.D.                 Information and Communication Technology  TQF2 Bachelor of Science in Information and Communication Technology (International Program)                 70    Section 4.  Learning Outcomes, Teaching Strategies, and Assessment Strategies  1. Development of Students’ Special Characteristics    Special Characteristics  Strategy or Student Activity  1. Have a great personality, be  professional, have a great presentation  skill and strong communication skill (in  English)   • Guide students about appropriate manner such as how to  dress properly during official events as follow by the  Mahidol University regulation  • Teach students several techniques for public presentation  and allow them to practice during class presentation as  well as extra curriculums activities at the Faculty  • Use English in all courses to integrate English into students’  daily routine  2. Have leadership, discipline, and  responsibility, be punctual, be a good  team player, always be ambitious and  thirsty for knowledge, have self- development and career development.   • Have several team-based assignment and term projects  (including senior projects)  • Set up rules/regulations and encourage students to have  discipline with that rules such as be in class on-time  • Assign open-end assignments which require students to  research and self-study on the tools and software. Assign  them to make a presentation to share their knowledge.  3. Have professional ethic  • Provide information about Computer-related Crime Act  and demonstrate example of real use cases  4. Contribute to society  • Support activities that beneficial to the society',\n",
       "  'sentences': ['Degree    \\uf052 Bachelor       Master        Ph.D.                 Information and Communication Technology  TQF2 Bachelor of Science in Information and Communication Technology (International Program)                 70    Section 4.',\n",
       "   ' Learning Outcomes, Teaching Strategies, and Assessment Strategies  1.',\n",
       "   'Development of Students’ Special Characteristics    Special Characteristics  Strategy or Student Activity  1.',\n",
       "   'Have a great personality, be  professional, have a great presentation  skill and strong communication skill (in  English)   • Guide students about appropriate manner such as how to  dress properly during official events as follow by the  Mahidol University regulation  • Teach students several techniques for public presentation  and allow them to practice during class presentation as  well as extra curriculums activities at the Faculty  • Use English in all courses to integrate English into students’  daily routine  2.',\n",
       "   'Have leadership, discipline, and  responsibility, be punctual, be a good  team player, always be ambitious and  thirsty for knowledge, have self- development and career development.',\n",
       "   '  • Have several team-based assignment and term projects  (including senior projects)  • Set up rules/regulations and encourage students to have  discipline with that rules such as be in class on-time  • Assign open-end assignments which require students to  research and self-study on the tools and software.',\n",
       "   'Assign  them to make a presentation to share their knowledge.',\n",
       "   ' 3.',\n",
       "   'Have professional ethic  • Provide information about Computer-related Crime Act  and demonstrate example of real use cases  4.',\n",
       "   'Contribute to society  • Support activities that beneficial to the society'],\n",
       "  'page_sentence_count_spacy': 10,\n",
       "  'sentence_chunk': [['Degree    \\uf052 Bachelor       Master        Ph.D.                 Information and Communication Technology  TQF2 Bachelor of Science in Information and Communication Technology (International Program)                 70    Section 4.',\n",
       "    ' Learning Outcomes, Teaching Strategies, and Assessment Strategies  1.',\n",
       "    'Development of Students’ Special Characteristics    Special Characteristics  Strategy or Student Activity  1.',\n",
       "    'Have a great personality, be  professional, have a great presentation  skill and strong communication skill (in  English)   • Guide students about appropriate manner such as how to  dress properly during official events as follow by the  Mahidol University regulation  • Teach students several techniques for public presentation  and allow them to practice during class presentation as  well as extra curriculums activities at the Faculty  • Use English in all courses to integrate English into students’  daily routine  2.',\n",
       "    'Have leadership, discipline, and  responsibility, be punctual, be a good  team player, always be ambitious and  thirsty for knowledge, have self- development and career development.',\n",
       "    '  • Have several team-based assignment and term projects  (including senior projects)  • Set up rules/regulations and encourage students to have  discipline with that rules such as be in class on-time  • Assign open-end assignments which require students to  research and self-study on the tools and software.',\n",
       "    'Assign  them to make a presentation to share their knowledge.',\n",
       "    ' 3.'],\n",
       "   ['Have professional ethic  • Provide information about Computer-related Crime Act  and demonstrate example of real use cases  4.',\n",
       "    'Contribute to society  • Support activities that beneficial to the society']],\n",
       "  'num_chunk': 2}]"
      ]
     },
     "execution_count": 32,
     "metadata": {},
     "output_type": "execute_result"
    }
   ],
   "source": [
    "random.sample(pages_and_text, k=1)"
   ]
  },
  {
   "cell_type": "code",
   "execution_count": 33,
   "metadata": {},
   "outputs": [
    {
     "data": {
      "text/html": [
       "<div>\n",
       "<style scoped>\n",
       "    .dataframe tbody tr th:only-of-type {\n",
       "        vertical-align: middle;\n",
       "    }\n",
       "\n",
       "    .dataframe tbody tr th {\n",
       "        vertical-align: top;\n",
       "    }\n",
       "\n",
       "    .dataframe thead th {\n",
       "        text-align: right;\n",
       "    }\n",
       "</style>\n",
       "<table border=\"1\" class=\"dataframe\">\n",
       "  <thead>\n",
       "    <tr style=\"text-align: right;\">\n",
       "      <th></th>\n",
       "      <th>page_number</th>\n",
       "      <th>page_char_count</th>\n",
       "      <th>page_word_count</th>\n",
       "      <th>page_sentence_count_raw</th>\n",
       "      <th>page_token_count</th>\n",
       "      <th>page_sentence_count_spacy</th>\n",
       "      <th>num_chunk</th>\n",
       "    </tr>\n",
       "  </thead>\n",
       "  <tbody>\n",
       "    <tr>\n",
       "      <th>count</th>\n",
       "      <td>106.00</td>\n",
       "      <td>106.00</td>\n",
       "      <td>106.00</td>\n",
       "      <td>106.00</td>\n",
       "      <td>106.00</td>\n",
       "      <td>106.00</td>\n",
       "      <td>106.00</td>\n",
       "    </tr>\n",
       "    <tr>\n",
       "      <th>mean</th>\n",
       "      <td>49.50</td>\n",
       "      <td>1787.08</td>\n",
       "      <td>377.44</td>\n",
       "      <td>7.09</td>\n",
       "      <td>446.77</td>\n",
       "      <td>5.10</td>\n",
       "      <td>1.30</td>\n",
       "    </tr>\n",
       "    <tr>\n",
       "      <th>std</th>\n",
       "      <td>30.74</td>\n",
       "      <td>474.92</td>\n",
       "      <td>127.84</td>\n",
       "      <td>8.36</td>\n",
       "      <td>118.73</td>\n",
       "      <td>5.99</td>\n",
       "      <td>0.65</td>\n",
       "    </tr>\n",
       "    <tr>\n",
       "      <th>min</th>\n",
       "      <td>-3.00</td>\n",
       "      <td>198.00</td>\n",
       "      <td>41.00</td>\n",
       "      <td>1.00</td>\n",
       "      <td>49.50</td>\n",
       "      <td>1.00</td>\n",
       "      <td>1.00</td>\n",
       "    </tr>\n",
       "    <tr>\n",
       "      <th>25%</th>\n",
       "      <td>23.25</td>\n",
       "      <td>1594.50</td>\n",
       "      <td>322.00</td>\n",
       "      <td>2.00</td>\n",
       "      <td>398.62</td>\n",
       "      <td>1.00</td>\n",
       "      <td>1.00</td>\n",
       "    </tr>\n",
       "    <tr>\n",
       "      <th>50%</th>\n",
       "      <td>49.50</td>\n",
       "      <td>1801.00</td>\n",
       "      <td>349.00</td>\n",
       "      <td>2.50</td>\n",
       "      <td>450.25</td>\n",
       "      <td>1.00</td>\n",
       "      <td>1.00</td>\n",
       "    </tr>\n",
       "    <tr>\n",
       "      <th>75%</th>\n",
       "      <td>75.75</td>\n",
       "      <td>1951.75</td>\n",
       "      <td>387.00</td>\n",
       "      <td>11.00</td>\n",
       "      <td>487.94</td>\n",
       "      <td>8.00</td>\n",
       "      <td>1.00</td>\n",
       "    </tr>\n",
       "    <tr>\n",
       "      <th>max</th>\n",
       "      <td>102.00</td>\n",
       "      <td>5270.00</td>\n",
       "      <td>812.00</td>\n",
       "      <td>65.00</td>\n",
       "      <td>1317.50</td>\n",
       "      <td>33.00</td>\n",
       "      <td>5.00</td>\n",
       "    </tr>\n",
       "  </tbody>\n",
       "</table>\n",
       "</div>"
      ],
      "text/plain": [
       "       page_number  page_char_count  page_word_count  page_sentence_count_raw  \\\n",
       "count       106.00           106.00           106.00                   106.00   \n",
       "mean         49.50          1787.08           377.44                     7.09   \n",
       "std          30.74           474.92           127.84                     8.36   \n",
       "min          -3.00           198.00            41.00                     1.00   \n",
       "25%          23.25          1594.50           322.00                     2.00   \n",
       "50%          49.50          1801.00           349.00                     2.50   \n",
       "75%          75.75          1951.75           387.00                    11.00   \n",
       "max         102.00          5270.00           812.00                    65.00   \n",
       "\n",
       "       page_token_count  page_sentence_count_spacy  num_chunk  \n",
       "count            106.00                     106.00     106.00  \n",
       "mean             446.77                       5.10       1.30  \n",
       "std              118.73                       5.99       0.65  \n",
       "min               49.50                       1.00       1.00  \n",
       "25%              398.62                       1.00       1.00  \n",
       "50%              450.25                       1.00       1.00  \n",
       "75%              487.94                       8.00       1.00  \n",
       "max             1317.50                      33.00       5.00  "
      ]
     },
     "execution_count": 33,
     "metadata": {},
     "output_type": "execute_result"
    }
   ],
   "source": [
    "df = pd.DataFrame(pages_and_text)\n",
    "df.describe().round(2)"
   ]
  },
  {
   "cell_type": "markdown",
   "metadata": {},
   "source": [
    "### 1.7 Splitting each chunk into its own item\n",
    "\n",
    "We'd like to embed each chunk of sentences into its own numerical representation.\n",
    "\n",
    "That'll give us a good level of granularity\n",
    "\n",
    "Meaning, we can dive specifically into the text sample that used in the model."
   ]
  },
  {
   "cell_type": "code",
   "execution_count": 36,
   "metadata": {},
   "outputs": [
    {
     "name": "stderr",
     "output_type": "stream",
     "text": [
      "100%|██████████| 106/106 [00:00<00:00, 21169.23it/s]\n"
     ]
    },
    {
     "data": {
      "text/plain": [
       "138"
      ]
     },
     "execution_count": 36,
     "metadata": {},
     "output_type": "execute_result"
    }
   ],
   "source": [
    "import re\n",
    "\n",
    "# Split each chunk into its own item\n",
    "pages_and_chunk = []\n",
    "for item in tqdm(pages_and_text):\n",
    "    for sentence_chunk in item['sentence_chunk']:\n",
    "        chunk_dict = {}\n",
    "        chunk_dict[\"page_number\"] = item[\"page_number\"]\n",
    "        \n",
    "        # Join the sentences together into a paragraph-like structure.\n",
    "        joined_sentence_chunk = \"\".join(sentence_chunk).replace(\" \", \" \").strip()\n",
    "        joined_sentence_chunk = re.sub(r'\\.([A-Z])', r'. \\1', joined_sentence_chunk) # \".A\" => \". A\"\n",
    "        \n",
    "        chunk_dict['sentence_chunk'] = joined_sentence_chunk\n",
    "        \n",
    "        # Get some stats on the chunks\n",
    "        chunk_dict['chunk_char_count'] = len(joined_sentence_chunk)\n",
    "        chunk_dict[\"chunk_word_count\"] = len([word for word in joined_sentence_chunk.split(\" \")])\n",
    "        chunk_dict['chunk_token_count'] = len(joined_sentence_chunk) / 4 # 1 token = ~4 chars\n",
    "        \n",
    "        pages_and_chunk.append(chunk_dict)\n",
    "        \n",
    "len(pages_and_chunk)"
   ]
  },
  {
   "cell_type": "code",
   "execution_count": 37,
   "metadata": {},
   "outputs": [
    {
     "data": {
      "text/plain": [
       "[{'page_number': 102,\n",
       "  'sentence_chunk': 'Degree    \\uf052 Bachelor       Master        Ph. D.                 Information and Communication Technology  TQF2 Bachelor of Science in Information and Communication Technology (International Program)                 102    (3) Haga J, Mitrpanont J, Roungsuriyaviboon J, Sathapornwatanakul T, Sawangphol W,  Kobayashi D, MedThaiSAGE: Visualization of Thai Medical Research Data on Large Tiled  Display Walls. In: the Pacific Rim Application and Grid Middleware Assembly (PRAGMA33);  2017 Oct 16; Brisbane, Australia; 2017. (4) Sawangphol W, Li Y-F, Tack G. CP4DL: Constraint-based Reasoning for Expressive  Description Logics. In: the Fifteenth International Workshop on Constraint Modelling and  Reformulation (ModRef), 2016 Sep 5-9; Toulouse, France; 2016. (5) Kang Y-B, Pan JZ, Krishnaswamy S, Sawangphol W, Li Y-F. How Long Will It Take?Accurate  Prediction of Ontology Reasoning Performance. In: The 28th AAAI Conference on Artificial  Intelligence (AAAI), 2014 Jul 27-31; Québec, Canada; 2014.   • Academic Articles  -    • Books   -    • Other types of academic publications  -  Current Teaching Courses  ITCS  101  Problem Solving Techniques  2 (1 – 2 – 3)  ITCS  210  Web Programming  3 (3 – 0 – 6)    Teaching Courses in Revised Program  ITCS  101  Problem Solving Techniques  2 (1 – 2 – 3)  ITCS  212  Web Programming  3 (2 – 2 – 5)',\n",
       "  'chunk_char_count': 1341,\n",
       "  'chunk_word_count': 285,\n",
       "  'chunk_token_count': 335.25}]"
      ]
     },
     "execution_count": 37,
     "metadata": {},
     "output_type": "execute_result"
    }
   ],
   "source": [
    "random.sample(pages_and_chunk, k=1)"
   ]
  },
  {
   "cell_type": "code",
   "execution_count": 38,
   "metadata": {},
   "outputs": [
    {
     "data": {
      "text/html": [
       "<div>\n",
       "<style scoped>\n",
       "    .dataframe tbody tr th:only-of-type {\n",
       "        vertical-align: middle;\n",
       "    }\n",
       "\n",
       "    .dataframe tbody tr th {\n",
       "        vertical-align: top;\n",
       "    }\n",
       "\n",
       "    .dataframe thead th {\n",
       "        text-align: right;\n",
       "    }\n",
       "</style>\n",
       "<table border=\"1\" class=\"dataframe\">\n",
       "  <thead>\n",
       "    <tr style=\"text-align: right;\">\n",
       "      <th></th>\n",
       "      <th>page_number</th>\n",
       "      <th>chunk_char_count</th>\n",
       "      <th>chunk_word_count</th>\n",
       "      <th>chunk_token_count</th>\n",
       "    </tr>\n",
       "  </thead>\n",
       "  <tbody>\n",
       "    <tr>\n",
       "      <th>count</th>\n",
       "      <td>138.00</td>\n",
       "      <td>138.00</td>\n",
       "      <td>138.00</td>\n",
       "      <td>138.00</td>\n",
       "    </tr>\n",
       "    <tr>\n",
       "      <th>mean</th>\n",
       "      <td>46.75</td>\n",
       "      <td>1371.71</td>\n",
       "      <td>289.17</td>\n",
       "      <td>342.93</td>\n",
       "    </tr>\n",
       "    <tr>\n",
       "      <th>std</th>\n",
       "      <td>32.80</td>\n",
       "      <td>555.78</td>\n",
       "      <td>168.62</td>\n",
       "      <td>138.95</td>\n",
       "    </tr>\n",
       "    <tr>\n",
       "      <th>min</th>\n",
       "      <td>-3.00</td>\n",
       "      <td>119.00</td>\n",
       "      <td>4.00</td>\n",
       "      <td>29.75</td>\n",
       "    </tr>\n",
       "    <tr>\n",
       "      <th>25%</th>\n",
       "      <td>14.00</td>\n",
       "      <td>1044.25</td>\n",
       "      <td>171.75</td>\n",
       "      <td>261.06</td>\n",
       "    </tr>\n",
       "    <tr>\n",
       "      <th>50%</th>\n",
       "      <td>47.50</td>\n",
       "      <td>1519.00</td>\n",
       "      <td>310.50</td>\n",
       "      <td>379.75</td>\n",
       "    </tr>\n",
       "    <tr>\n",
       "      <th>75%</th>\n",
       "      <td>76.75</td>\n",
       "      <td>1809.50</td>\n",
       "      <td>352.75</td>\n",
       "      <td>452.38</td>\n",
       "    </tr>\n",
       "    <tr>\n",
       "      <th>max</th>\n",
       "      <td>102.00</td>\n",
       "      <td>2273.00</td>\n",
       "      <td>813.00</td>\n",
       "      <td>568.25</td>\n",
       "    </tr>\n",
       "  </tbody>\n",
       "</table>\n",
       "</div>"
      ],
      "text/plain": [
       "       page_number  chunk_char_count  chunk_word_count  chunk_token_count\n",
       "count       138.00            138.00            138.00             138.00\n",
       "mean         46.75           1371.71            289.17             342.93\n",
       "std          32.80            555.78            168.62             138.95\n",
       "min          -3.00            119.00              4.00              29.75\n",
       "25%          14.00           1044.25            171.75             261.06\n",
       "50%          47.50           1519.00            310.50             379.75\n",
       "75%          76.75           1809.50            352.75             452.38\n",
       "max         102.00           2273.00            813.00             568.25"
      ]
     },
     "execution_count": 38,
     "metadata": {},
     "output_type": "execute_result"
    }
   ],
   "source": [
    "df = pd.DataFrame(pages_and_chunk)\n",
    "df.describe().round(2)"
   ]
  },
  {
   "cell_type": "markdown",
   "metadata": {},
   "source": [
    "### 1.8 Filter chunks of text for short chunks\n",
    "\n",
    "Since these chunks might not contain many useful information"
   ]
  },
  {
   "cell_type": "code",
   "execution_count": 47,
   "metadata": {},
   "outputs": [
    {
     "name": "stdout",
     "output_type": "stream",
     "text": [
      "Chunk token count: 49.5 | Text: Bachelor of Science   in Information and Communication Technology (ICT)  (International Program)  2018 Revision                Faculty of Information and Communication Technology  Mahidol University\n",
      "Chunk token count: 44.75 | Text: STUDENT APPEAL ................................................................................................................................................................. 77\n",
      "Chunk token count: 29.75 | Text: In: the 2nd International  Conference on Information  Technology (InCIT), 2017 Nov 2-3;  Nakhon Pathom, Thailand; 2017.\n",
      "Chunk token count: 40.25 | Text: 4.2  Identify the code of ICT-related ethics (e.g. policy, law). 4.3  Express the awareness of business, social, security,  professional, and ICT-related ethics.\n",
      "Chunk token count: 35.75 | Text: 8.3  Analyze, design, and develop solutions for research  problems. 8.4  Evaluate the solutions. 8.5  Prepare a research paper for publication.\n"
     ]
    }
   ],
   "source": [
    "# Show random chunks with less than 50 tokens\n",
    "min_token_length = 50\n",
    "for row in df[df['chunk_token_count'] <= min_token_length].iterrows():\n",
    "    print(f\"Chunk token count: {row[1][\"chunk_token_count\"]} | Text: {row[1][\"sentence_chunk\"]}\")"
   ]
  },
  {
   "cell_type": "code",
   "execution_count": 48,
   "metadata": {},
   "outputs": [
    {
     "data": {
      "text/plain": [
       "[{'page_number': -2,\n",
       "  'sentence_chunk': 'Table of Contents  SECTION 1. GENERAL INFORMATION  .......................................................................................................................................... 1  1. PROGRAM TITLE ..................................................................................................................................................................... 1  2. DEGREE TITLE ........................................................................................................................................................................ 1  3. MAJOR OR MINOR SUBJECTS (IF ANY) ....................................................................................................................................... 1  4. TOTAL NUMBER OF CREDITS .................................................................................................................................................... 1  5. PROGRAM CHARACTERISTICS .................................................................................................................................................. 1  6. PROGRAM STATUS AND PROGRAM APPROVAL ............................................................................................................................ 2  7.',\n",
       "  'chunk_char_count': 1267,\n",
       "  'chunk_word_count': 58,\n",
       "  'chunk_token_count': 316.75},\n",
       " {'page_number': -2,\n",
       "  'sentence_chunk': 'THE ABILITY TO IMPLEMENT/PROMOTE THE PROGRAM  ................................................................................................................. 2  8. POSSIBLE CAREERS FOR THE GRADUATES ................................................................................................................................. 2  9. LIST OF THE PROGRAM FACULTY MEMBERS ................................................................................................................................ 2  10. VENUE TO CONDUCT THE STUDY .............................................................................................................................................. 3  11. EXTERNAL CONTEXTS OR DEVELOPMENTS AFFECTING PROGRAM PLANNING .................................................................................. 3  12. IMPACTS OF NO.11.1 AND 11.2 ON THE PROGRAM DEVELOPMENT AND ITS RELEVANCE TO THE MISSIONS OF THE INSTITUTE ............. 4  13. COOPERATION WITH THE OTHER PROGRAMS WITHIN THE INSTITUTE (IF ANY) ................................................................................. 5  SECTION 2.',\n",
       "  'chunk_char_count': 1125,\n",
       "  'chunk_word_count': 87,\n",
       "  'chunk_token_count': 281.25}]"
      ]
     },
     "execution_count": 48,
     "metadata": {},
     "output_type": "execute_result"
    }
   ],
   "source": [
    "# Filter our DataFrame for rows with under 30 tokens\n",
    "pages_and_chunk_over_min_token_length = df[df[\"chunk_token_count\"] > min_token_length].to_dict(orient=\"records\")\n",
    "pages_and_chunk_over_min_token_length[:2]"
   ]
  },
  {
   "cell_type": "markdown",
   "metadata": {},
   "source": [
    "## 2. Embedding the text chunks"
   ]
  },
  {
   "cell_type": "markdown",
   "metadata": {},
   "source": []
  }
 ],
 "metadata": {
  "kernelspec": {
   "display_name": "llm",
   "language": "python",
   "name": "python3"
  },
  "language_info": {
   "codemirror_mode": {
    "name": "ipython",
    "version": 3
   },
   "file_extension": ".py",
   "mimetype": "text/x-python",
   "name": "python",
   "nbconvert_exporter": "python",
   "pygments_lexer": "ipython3",
   "version": "3.12.4"
  }
 },
 "nbformat": 4,
 "nbformat_minor": 2
}
