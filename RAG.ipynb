{
 "cells": [
  {
   "cell_type": "markdown",
   "metadata": {},
   "source": [
    "# Create and run a local RAG pipeline"
   ]
  },
  {
   "cell_type": "markdown",
   "metadata": {},
   "source": [
    "## What is a RAG"
   ]
  },
  {
   "cell_type": "markdown",
   "metadata": {},
   "source": [
    "RAG stands for **Retrieval Augmented Generation**. The goal of RAG is to have specific information and pass it to an LLM so it can generate outputs more specific based on that information.\n",
    "\n",
    "1. **Retrieval**: Find relevant information given a query.\n",
    "2. **Augmentation**: Take the relevant information and *augment* our input (prompt) to an LLM with that relevant information.\n",
    "3. **Generation**: Take the first two steps and pass them to an LLM for a generative output."
   ]
  },
  {
   "cell_type": "markdown",
   "metadata": {},
   "source": [
    "Asking existing chatbots with broad data (eg. OpenAI) can have:\n",
    "\n",
    "1. No real-time information\n",
    "2. AI will Hallucinates (make up random answer)\n",
    "3. No custom, more specific data"
   ]
  },
  {
   "cell_type": "markdown",
   "metadata": {},
   "source": [
    "## Important Concepts:\n",
    "1. Text Embedding\n",
    "2. Vector Database"
   ]
  },
  {
   "cell_type": "markdown",
   "metadata": {},
   "source": [
    "## Why Local\n",
    "1. Cool\n",
    "2. Privacy: Don't want to send company's data via API\n",
    "3. Speed: No need to send data across the internet.\n",
    "4. Cost: No API fee\n",
    "5. No Vendor Lockin: If OpenAI exploded tomorrow, we can still operate."
   ]
  },
  {
   "cell_type": "code",
   "execution_count": 1,
   "metadata": {},
   "outputs": [
    {
     "name": "stdout",
     "output_type": "stream",
     "text": [
      "Wed Jun 26 17:29:51 2024       \n",
      "+-----------------------------------------------------------------------------------------+\n",
      "| NVIDIA-SMI 555.99                 Driver Version: 555.99         CUDA Version: 12.5     |\n",
      "|-----------------------------------------+------------------------+----------------------+\n",
      "| GPU  Name                  Driver-Model | Bus-Id          Disp.A | Volatile Uncorr. ECC |\n",
      "| Fan  Temp   Perf          Pwr:Usage/Cap |           Memory-Usage | GPU-Util  Compute M. |\n",
      "|                                         |                        |               MIG M. |\n",
      "|=========================================+========================+======================|\n",
      "|   0  NVIDIA GeForce RTX 4060      WDDM  |   00000000:01:00.0  On |                  N/A |\n",
      "|  0%   48C    P8             N/A /  120W |     924MiB /   8188MiB |     13%      Default |\n",
      "|                                         |                        |                  N/A |\n",
      "+-----------------------------------------+------------------------+----------------------+\n",
      "                                                                                         \n",
      "+-----------------------------------------------------------------------------------------+\n",
      "| Processes:                                                                              |\n",
      "|  GPU   GI   CI        PID   Type   Process name                              GPU Memory |\n",
      "|        ID   ID                                                               Usage      |\n",
      "|=========================================================================================|\n",
      "|    0   N/A  N/A      1816    C+G   C:\\Windows\\explorer.exe                     N/A      |\n",
      "|    0   N/A  N/A      2196    C+G   ...\\cef\\cef.win7x64\\steamwebhelper.exe      N/A      |\n",
      "|    0   N/A  N/A      5916    C+G   ...t.LockApp_cw5n1h2txyewy\\LockApp.exe      N/A      |\n",
      "|    0   N/A  N/A      6488    C+G   C:\\Windows\\System32\\NahimicSvc64.exe        N/A      |\n",
      "|    0   N/A  N/A      8160    C+G   ...1.0_x64__w2gh52qy24etm\\Nahimic3.exe      N/A      |\n",
      "|    0   N/A  N/A      9260    C+G   ...m Files\\Mozilla Firefox\\firefox.exe      N/A      |\n",
      "|    0   N/A  N/A     11248    C+G   ...Programs\\Microsoft VS Code\\Code.exe      N/A      |\n",
      "|    0   N/A  N/A     11672    C+G   ...5n1h2txyewy\\ShellExperienceHost.exe      N/A      |\n",
      "|    0   N/A  N/A     14312    C+G   ...m Files\\Mozilla Firefox\\firefox.exe      N/A      |\n",
      "|    0   N/A  N/A     14332    C+G   ...\\cef\\cef.win7x64\\steamwebhelper.exe      N/A      |\n",
      "|    0   N/A  N/A     15152    C+G   ...2txyewy\\StartMenuExperienceHost.exe      N/A      |\n",
      "|    0   N/A  N/A     15632    C+G   ...al\\Discord\\app-1.0.9151\\Discord.exe      N/A      |\n",
      "|    0   N/A  N/A     17632    C+G   ...nt.CBS_cw5n1h2txyewy\\SearchHost.exe      N/A      |\n",
      "|    0   N/A  N/A     18732    C+G   ...siveControlPanel\\SystemSettings.exe      N/A      |\n",
      "|    0   N/A  N/A     19076    C+G   ...ekyb3d8bbwe\\PhoneExperienceHost.exe      N/A      |\n",
      "|    0   N/A  N/A     19444    C+G   ...__8wekyb3d8bbwe\\WindowsTerminal.exe      N/A      |\n",
      "+-----------------------------------------------------------------------------------------+\n"
     ]
    }
   ],
   "source": [
    "!nvidia-smi"
   ]
  },
  {
   "cell_type": "markdown",
   "metadata": {},
   "source": [
    "## Sample\n",
    "\n",
    "We will be using the ICT curriculum because why not?"
   ]
  },
  {
   "cell_type": "markdown",
   "metadata": {},
   "source": [
    "1. We slice the file into smaller chunks of text as \"context\"\n",
    "2. Embed the texts into numerical format using embedding models\n",
    "3. Store them in database or PyTorch tensors"
   ]
  },
  {
   "cell_type": "markdown",
   "metadata": {},
   "source": [
    "## What we are doing\n",
    "\n",
    "### Document Preprocessing and Embedding Creation\n",
    "\n",
    "1. Open a PDF document (or even a collections of PDFs)\n",
    "2. Format the text of the PDF ready for an embedding model.\n",
    "3. Embed all of the chunks of text in the textbook and turn them into numerical representations (embedding) which we can store for later.\n",
    "\n",
    "### Search and Answer\n",
    "\n",
    "4. Build a retrieval system that uses **Vector Search** to find relevant chunk of text based on a *query*.\n",
    "5. Create a prompt that incorporates the retrieved pieces of text.\n",
    "6. Generate an answer to a query based on the passages of the textbook with an LLM."
   ]
  },
  {
   "cell_type": "markdown",
   "metadata": {},
   "source": [
    "<hr>"
   ]
  },
  {
   "cell_type": "markdown",
   "metadata": {},
   "source": [
    "# Steps:"
   ]
  },
  {
   "cell_type": "markdown",
   "metadata": {},
   "source": [
    "## 1. Document Preprocessing and Embedding Creation"
   ]
  },
  {
   "cell_type": "markdown",
   "metadata": {},
   "source": [
    "**Requirement**:\n",
    "1. PDF Document (or any type of document)\n",
    "2. Embedding Model of choice\n",
    "\n",
    "**Steps**:\n",
    "1. Import PDF document.\n",
    "2. Process text for embedding \n",
    "    * (eg. splitting into chunks of sentenses)\n",
    "3. Embed text chunks with embedding model\n",
    "4. Save embeddings to file"
   ]
  },
  {
   "cell_type": "markdown",
   "metadata": {},
   "source": [
    "### 1.1 Import PDF Document"
   ]
  },
  {
   "cell_type": "code",
   "execution_count": 9,
   "metadata": {},
   "outputs": [
    {
     "name": "stdout",
     "output_type": "stream",
     "text": [
      "curriculum.pdf does not exist\n",
      "File curriculum.pdf downloaded\n"
     ]
    }
   ],
   "source": [
    "import os\n",
    "import requests\n",
    "\n",
    "# Get PDF document path\n",
    "pdf_path = \"curriculum.pdf\"\n",
    "\n",
    "# Download PDF\n",
    "if not os.path.exists(pdf_path):\n",
    "    print(f\"{pdf_path} does not exist\")\n",
    "    \n",
    "    # Enter the URL of the PDF\n",
    "    url = \"https://www.ict.mahidol.ac.th/wp-content/uploads/2021/05/ICT2018-TQF2_Webversion_English.pdf\"\n",
    "    \n",
    "    # The local filename to save the downloaded file\n",
    "    filename = pdf_path\n",
    "    \n",
    "    # Send a GET request to the URL\n",
    "    response = requests.get(url)\n",
    "    \n",
    "    # Check if successful\n",
    "    if response.status_code == 200:\n",
    "        # Open the file and save it\n",
    "        with open(filename, \"wb\") as f:\n",
    "            f.write(response.content)\n",
    "        print(f\"File {filename} downloaded\")\n",
    "    else:\n",
    "        print(f\"Failed to download file: {response.status_code}\")\n",
    "        \n",
    "else:\n",
    "    print(f\"File {pdf_path} Existed: Skipping\")"
   ]
  },
  {
   "cell_type": "markdown",
   "metadata": {},
   "source": [
    "### 1.2 Open PDF Document"
   ]
  },
  {
   "cell_type": "markdown",
   "metadata": {},
   "source": [
    "There are multiple PDF-related modules, the tutorial uses [PyMuPDF](https://pymupdf.readthedocs.io/en/latest/)"
   ]
  },
  {
   "cell_type": "code",
   "execution_count": 23,
   "metadata": {},
   "outputs": [
    {
     "name": "stdout",
     "output_type": "stream",
     "text": [
      "None\n"
     ]
    }
   ],
   "source": [
    "import fitz # PyMuPDF (Fitz is legacy/backward compatible)\n",
    "print(fitz.__doc__)"
   ]
  },
  {
   "cell_type": "code",
   "execution_count": 24,
   "metadata": {},
   "outputs": [
    {
     "name": "stdout",
     "output_type": "stream",
     "text": [
      "\n",
      "    Asynchronous-friendly version of tqdm.\n",
      "    \n"
     ]
    }
   ],
   "source": [
    "# Progress Bar looks cool\n",
    "from tqdm.auto import tqdm\n",
    "print(tqdm.__doc__)"
   ]
  },
  {
   "cell_type": "code",
   "execution_count": 25,
   "metadata": {},
   "outputs": [],
   "source": [
    "# Perform text formatting\n",
    "# Because raw PDF copy-pasting doesn't really work well\n",
    "def text_formatter(text: str) -> str:\n",
    "    \"\"\"Performs minor formatting on text\n",
    "\n",
    "    Args:\n",
    "        text (str): _description_\n",
    "\n",
    "    Returns:\n",
    "        str: Formatted Text through various functions\n",
    "    \"\"\"\n",
    "    \n",
    "    # Strip trailing spaces\n",
    "    # Replace \"\\n\" with \" \"\n",
    "    cleaned_text = text.replace(\"\\n\", \" \").strip()\n",
    "    \n",
    "    # Potentially more text formatting functions go here\n",
    "    # Better text = Better LLM\n",
    "    \n",
    "    return cleaned_text"
   ]
  },
  {
   "cell_type": "code",
   "execution_count": 31,
   "metadata": {},
   "outputs": [],
   "source": [
    "def read_pdf(pdf_path: str) -> list[dict]:\n",
    "    doc = fitz.open(pdf_path)\n",
    "    pages_and_texts = []\n",
    "    \n",
    "    # Loop through the doc with tqdm progress bar \n",
    "    # Page number and page content\n",
    "    for page_number, page in tqdm(enumerate(doc)):\n",
    "        text = page.get_text()\n",
    "        text = text_formatter(text=text)\n",
    "        # Experiment with page number if you want\n",
    "        pages_and_texts.append({\n",
    "            \"page_number\": page_number - 3, # Page number start appearing at page 4\n",
    "            \"page_char_count\": len(text),\n",
    "            \"page_word_count\": len(text.split(' ')),\n",
    "            \"page_sentence_count_raw\": len(text.split('. ')),\n",
    "            \"page_token_count\": len(text) / 4, # 1 English Word = ~4 tokens\n",
    "            \"text\": text\n",
    "                                })\n",
    "    \n",
    "    return pages_and_texts"
   ]
  },
  {
   "cell_type": "markdown",
   "metadata": {},
   "source": [
    "**Token**: A sub-word pieve of textA sub-word piece of text. For example, \"hello, world!\" could be split into [\"hello\", \",\", \"world\", \"!\"]. \n",
    "\n",
    "A token can be a whole word,\n",
    "part of a word or group of punctuation characters. 1 token ~= 4 characters in English, 100 tokens ~= 75 words.\n",
    "Text gets broken into tokens before being passed to an LLM.. "
   ]
  },
  {
   "cell_type": "markdown",
   "metadata": {},
   "source": [
    "### 1.3 Testing parsing and reading of PDF"
   ]
  },
  {
   "cell_type": "code",
   "execution_count": 32,
   "metadata": {},
   "outputs": [
    {
     "name": "stderr",
     "output_type": "stream",
     "text": [
      "106it [00:00, 542.00it/s]\n"
     ]
    },
    {
     "data": {
      "text/plain": [
       "[{'page_number': -3,\n",
       "  'page_char_count': 198,\n",
       "  'page_word_count': 41,\n",
       "  'page_sentence_count_raw': 1,\n",
       "  'page_token_count': 49.5,\n",
       "  'text': 'Bachelor of Science   in Information and Communication Technology (ICT)  (International Program)  2018 Revision                Faculty of Information and Communication Technology  Mahidol University'},\n",
       " {'page_number': -2,\n",
       "  'page_char_count': 5270,\n",
       "  'page_word_count': 341,\n",
       "  'page_sentence_count_raw': 65,\n",
       "  'page_token_count': 1317.5,\n",
       "  'text': 'Table of Contents  SECTION 1.  GENERAL INFORMATION  .......................................................................................................................................... 1  1.  PROGRAM TITLE ..................................................................................................................................................................... 1  2.  DEGREE TITLE ........................................................................................................................................................................ 1  3.  MAJOR OR MINOR SUBJECTS (IF ANY) ....................................................................................................................................... 1  4.  TOTAL NUMBER OF CREDITS .................................................................................................................................................... 1  5.  PROGRAM CHARACTERISTICS .................................................................................................................................................. 1  6.  PROGRAM STATUS AND PROGRAM APPROVAL ............................................................................................................................ 2  7.  THE ABILITY TO IMPLEMENT/PROMOTE THE PROGRAM  ................................................................................................................. 2  8.  POSSIBLE CAREERS FOR THE GRADUATES ................................................................................................................................. 2  9.  LIST OF THE PROGRAM FACULTY MEMBERS ................................................................................................................................ 2  10.  VENUE TO CONDUCT THE STUDY .............................................................................................................................................. 3  11.  EXTERNAL CONTEXTS OR DEVELOPMENTS AFFECTING PROGRAM PLANNING .................................................................................. 3  12.  IMPACTS OF NO. 11.1 AND 11.2 ON THE PROGRAM DEVELOPMENT AND ITS RELEVANCE TO THE MISSIONS OF THE INSTITUTE ............. 4  13.  COOPERATION WITH THE OTHER PROGRAMS WITHIN THE INSTITUTE (IF ANY) ................................................................................. 5  SECTION 2.  PROGRAM SPECIFIC INFORMATION ...................................................................................................................... 7  1.  PHILOSOPHY, SIGNIFICANCE, AND OBJECTIVES OF THE PROGRAM ................................................................................................ 7  2.  PLAN FOR DEVELOPMENT AND REVISION ................................................................................................................................... 8  3.  EXPECTED LEARNING OUTCOMES (LOS) .................................................................................................................................. 9  SECTION 3.  EDUCATIONAL MANAGEMENT SYSTEM,  CURRICULUM IMPLEMENTATION AND STRUCTURE ................ 11  1.  EDUCATIONAL MANAGEMENT SYSTEM  .................................................................................................................................... 11  2.  PROGRAM IMPLEMENTATION ................................................................................................................................................. 11  3.  PROGRAM AND LECTURERS  ................................................................................................................................................... 14  4.  FIELD EXPERIENCE COURSES (INTERNSHIP OR COOPERATIVE EDUCATION) ................................................................................ 67  5.  REQUIREMENTS ON PROJECT AND RESEARCH .......................................................................................................................... 68  SECTION 4.  LEARNING OUTCOMES, TEACHING STRATEGIES, AND ASSESSMENT STRATEGIES ................................. 70  1.  DEVELOPMENT OF STUDENTS’ SPECIAL CHARACTERISTICS ....................................................................................................... 70  2.  MAPPING DESCRIBING LEARNING OUTCOMES, TEACHING AND LEARNING METHODS, AND STUDENT ASSESSMENT METHODS ............. 71  SECTION 5: STUDENT ASSESSMENT CRITERIA  ........................................................................................................................ 74  1.  REGULATIONS AND CRITERIA FOR GRADING............................................................................................................................. 74  2.  VERIFICATION OF THE STANDARDS OF STUDENT ACHIEVEMENTS................................................................................................. 75  3.  GARDUATION REQUIREMENTS ............................................................................................................................................... 76  4.  STUDENT APPEAL ................................................................................................................................................................. 77'}]"
      ]
     },
     "execution_count": 32,
     "metadata": {},
     "output_type": "execute_result"
    }
   ],
   "source": [
    "# Testing\n",
    "pages_and_text = read_pdf(pdf_path=pdf_path)\n",
    "pages_and_text[:2] # First 2 samples"
   ]
  },
  {
   "cell_type": "code",
   "execution_count": 33,
   "metadata": {},
   "outputs": [
    {
     "data": {
      "text/plain": [
       "[{'page_number': 83,\n",
       "  'page_char_count': 2128,\n",
       "  'page_word_count': 798,\n",
       "  'page_sentence_count_raw': 3,\n",
       "  'page_token_count': 532.0,\n",
       "  'text': 'Degree    \\uf052 Bachelor       Master        Ph.D.                 Information and Communication Technology  TQF2 Bachelor of Science in Information and Communication Technology (International Program)                 83    Course Code and Name  Number of  Credits  Learning Outcomes (LOs)  Program Learning Outcomes  Stream Learning Outcomes  PLO1 PLO2 PLO3 PLO4 PLO5 SLO6 SLO7 SLO8 SLO9  8 ITLG 108 Elementary Chinese I  2(1-2-3)  I        I          9 ITLG 109 Elementary Chinese II  2(1-2-3)  I        R          10 ITLG 110 Elementary Chinese III  2(1-2-3)  I        R          11 ITLG 201 Reading Skills  2(1-2-3)          I      I    12 ITLG 202 Public Speaking and Presentation  2(1-2-3)  I        R          13 ITLG 301 Business Writing  2(1-2-3)          R          13 ITLG 302 Academic Writing  2(1-2-3)  R        M/A      R    14 ITLG 303 Listening and Speaking I  2(1-2-3)  I        R          15 ITLG 304 Listening and Speaking II  2(1-2-3)  I        R          16 ITLG 305 Advanced Reading  2(1-2-3)          M          17 ITLG 306 Special Topics in Reading and Writing  2(1-2-3)          R               Health and Physical Education 1 Credits  1 MSMS 107 Film Appreciation  2(2-0-4)    I                2 MSID 101 Music Appreciation  2(1-2-3)    I                3 ITGE 141 Digital Photography  1(0-2-1)  I  I                4 ITGE 142 Digital Drawing and Painting  1(0-2-1)  I  I                5 ITGE 143 Dancing for Social and Health  1(0-2-1)    I                6 ITGE 144 Beginning Golf  1(0-2-1)    I                 B. Subject Specific Courses 93 Credits       Core courses 12 Credits  1 ITCS 125 Applied Statistics for Computing  3(3-0-6)  I              I    2 ITCS 175 Advanced Mathematics I for Computer  Science  3(3-0-6)  I  I                3 ITCS 306 Numerical Methods  3(3-0-6)  I                  4 ITCS 320 Discrete Structures  3(3-0-6)  I                       Required Courses 69 Credits  1 ITCS 201 Fundamentals of Programming  3 (2-2-5)  I  I          I  I    2 ITCS 209 Object Oriented Programming  3 (2-2-5)  I  I          I  I    3 ITCS 212 Web Programming  3 (2-2-5)  R  R          I    I'}]"
      ]
     },
     "execution_count": 33,
     "metadata": {},
     "output_type": "execute_result"
    }
   ],
   "source": [
    "# Random sample\n",
    "import random\n",
    "random.sample(pages_and_text, k=1)"
   ]
  },
  {
   "cell_type": "markdown",
   "metadata": {},
   "source": [
    "### 1.4 Performing some exploratory analysis"
   ]
  },
  {
   "cell_type": "code",
   "execution_count": 34,
   "metadata": {},
   "outputs": [
    {
     "data": {
      "text/html": [
       "<div>\n",
       "<style scoped>\n",
       "    .dataframe tbody tr th:only-of-type {\n",
       "        vertical-align: middle;\n",
       "    }\n",
       "\n",
       "    .dataframe tbody tr th {\n",
       "        vertical-align: top;\n",
       "    }\n",
       "\n",
       "    .dataframe thead th {\n",
       "        text-align: right;\n",
       "    }\n",
       "</style>\n",
       "<table border=\"1\" class=\"dataframe\">\n",
       "  <thead>\n",
       "    <tr style=\"text-align: right;\">\n",
       "      <th></th>\n",
       "      <th>page_number</th>\n",
       "      <th>page_char_count</th>\n",
       "      <th>page_word_count</th>\n",
       "      <th>page_sentence_count_raw</th>\n",
       "      <th>page_token_count</th>\n",
       "      <th>text</th>\n",
       "    </tr>\n",
       "  </thead>\n",
       "  <tbody>\n",
       "    <tr>\n",
       "      <th>0</th>\n",
       "      <td>-3</td>\n",
       "      <td>198</td>\n",
       "      <td>41</td>\n",
       "      <td>1</td>\n",
       "      <td>49.50</td>\n",
       "      <td>Bachelor of Science   in Information and Commu...</td>\n",
       "    </tr>\n",
       "    <tr>\n",
       "      <th>1</th>\n",
       "      <td>-2</td>\n",
       "      <td>5270</td>\n",
       "      <td>341</td>\n",
       "      <td>65</td>\n",
       "      <td>1317.50</td>\n",
       "      <td>Table of Contents  SECTION 1.  GENERAL INFORMA...</td>\n",
       "    </tr>\n",
       "    <tr>\n",
       "      <th>2</th>\n",
       "      <td>-1</td>\n",
       "      <td>1495</td>\n",
       "      <td>86</td>\n",
       "      <td>15</td>\n",
       "      <td>373.75</td>\n",
       "      <td>SECTION 6: ACADEMIC STAFF DEVELOPMENT ...........</td>\n",
       "    </tr>\n",
       "    <tr>\n",
       "      <th>3</th>\n",
       "      <td>0</td>\n",
       "      <td>1252</td>\n",
       "      <td>273</td>\n",
       "      <td>10</td>\n",
       "      <td>313.00</td>\n",
       "      <td>Degree     Bachelor       Master        Ph.D....</td>\n",
       "    </tr>\n",
       "    <tr>\n",
       "      <th>4</th>\n",
       "      <td>1</td>\n",
       "      <td>1630</td>\n",
       "      <td>314</td>\n",
       "      <td>13</td>\n",
       "      <td>407.50</td>\n",
       "      <td>Degree     Bachelor       Master        Ph.D....</td>\n",
       "    </tr>\n",
       "  </tbody>\n",
       "</table>\n",
       "</div>"
      ],
      "text/plain": [
       "   page_number  page_char_count  page_word_count  page_sentence_count_raw  \\\n",
       "0           -3              198               41                        1   \n",
       "1           -2             5270              341                       65   \n",
       "2           -1             1495               86                       15   \n",
       "3            0             1252              273                       10   \n",
       "4            1             1630              314                       13   \n",
       "\n",
       "   page_token_count                                               text  \n",
       "0             49.50  Bachelor of Science   in Information and Commu...  \n",
       "1           1317.50  Table of Contents  SECTION 1.  GENERAL INFORMA...  \n",
       "2            373.75  SECTION 6: ACADEMIC STAFF DEVELOPMENT ...........  \n",
       "3            313.00  Degree     Bachelor       Master        Ph.D....  \n",
       "4            407.50  Degree     Bachelor       Master        Ph.D....  "
      ]
     },
     "execution_count": 34,
     "metadata": {},
     "output_type": "execute_result"
    }
   ],
   "source": [
    "import pandas as pd\n",
    "\n",
    "# The reason we made it a list of dictionary\n",
    "df = pd.DataFrame(pages_and_text)\n",
    "df.head()"
   ]
  },
  {
   "cell_type": "code",
   "execution_count": 35,
   "metadata": {},
   "outputs": [
    {
     "data": {
      "text/html": [
       "<div>\n",
       "<style scoped>\n",
       "    .dataframe tbody tr th:only-of-type {\n",
       "        vertical-align: middle;\n",
       "    }\n",
       "\n",
       "    .dataframe tbody tr th {\n",
       "        vertical-align: top;\n",
       "    }\n",
       "\n",
       "    .dataframe thead th {\n",
       "        text-align: right;\n",
       "    }\n",
       "</style>\n",
       "<table border=\"1\" class=\"dataframe\">\n",
       "  <thead>\n",
       "    <tr style=\"text-align: right;\">\n",
       "      <th></th>\n",
       "      <th>page_number</th>\n",
       "      <th>page_char_count</th>\n",
       "      <th>page_word_count</th>\n",
       "      <th>page_sentence_count_raw</th>\n",
       "      <th>page_token_count</th>\n",
       "    </tr>\n",
       "  </thead>\n",
       "  <tbody>\n",
       "    <tr>\n",
       "      <th>count</th>\n",
       "      <td>106.000000</td>\n",
       "      <td>106.000000</td>\n",
       "      <td>106.000000</td>\n",
       "      <td>106.000000</td>\n",
       "      <td>106.000000</td>\n",
       "    </tr>\n",
       "    <tr>\n",
       "      <th>mean</th>\n",
       "      <td>49.500000</td>\n",
       "      <td>1787.084906</td>\n",
       "      <td>377.443396</td>\n",
       "      <td>7.094340</td>\n",
       "      <td>446.771226</td>\n",
       "    </tr>\n",
       "    <tr>\n",
       "      <th>std</th>\n",
       "      <td>30.743563</td>\n",
       "      <td>474.917479</td>\n",
       "      <td>127.838520</td>\n",
       "      <td>8.356951</td>\n",
       "      <td>118.729370</td>\n",
       "    </tr>\n",
       "    <tr>\n",
       "      <th>min</th>\n",
       "      <td>-3.000000</td>\n",
       "      <td>198.000000</td>\n",
       "      <td>41.000000</td>\n",
       "      <td>1.000000</td>\n",
       "      <td>49.500000</td>\n",
       "    </tr>\n",
       "    <tr>\n",
       "      <th>25%</th>\n",
       "      <td>23.250000</td>\n",
       "      <td>1594.500000</td>\n",
       "      <td>322.000000</td>\n",
       "      <td>2.000000</td>\n",
       "      <td>398.625000</td>\n",
       "    </tr>\n",
       "    <tr>\n",
       "      <th>50%</th>\n",
       "      <td>49.500000</td>\n",
       "      <td>1801.000000</td>\n",
       "      <td>349.000000</td>\n",
       "      <td>2.500000</td>\n",
       "      <td>450.250000</td>\n",
       "    </tr>\n",
       "    <tr>\n",
       "      <th>75%</th>\n",
       "      <td>75.750000</td>\n",
       "      <td>1951.750000</td>\n",
       "      <td>387.000000</td>\n",
       "      <td>11.000000</td>\n",
       "      <td>487.937500</td>\n",
       "    </tr>\n",
       "    <tr>\n",
       "      <th>max</th>\n",
       "      <td>102.000000</td>\n",
       "      <td>5270.000000</td>\n",
       "      <td>812.000000</td>\n",
       "      <td>65.000000</td>\n",
       "      <td>1317.500000</td>\n",
       "    </tr>\n",
       "  </tbody>\n",
       "</table>\n",
       "</div>"
      ],
      "text/plain": [
       "       page_number  page_char_count  page_word_count  page_sentence_count_raw  \\\n",
       "count   106.000000       106.000000       106.000000               106.000000   \n",
       "mean     49.500000      1787.084906       377.443396                 7.094340   \n",
       "std      30.743563       474.917479       127.838520                 8.356951   \n",
       "min      -3.000000       198.000000        41.000000                 1.000000   \n",
       "25%      23.250000      1594.500000       322.000000                 2.000000   \n",
       "50%      49.500000      1801.000000       349.000000                 2.500000   \n",
       "75%      75.750000      1951.750000       387.000000                11.000000   \n",
       "max     102.000000      5270.000000       812.000000                65.000000   \n",
       "\n",
       "       page_token_count  \n",
       "count        106.000000  \n",
       "mean         446.771226  \n",
       "std          118.729370  \n",
       "min           49.500000  \n",
       "25%          398.625000  \n",
       "50%          450.250000  \n",
       "75%          487.937500  \n",
       "max         1317.500000  "
      ]
     },
     "execution_count": 35,
     "metadata": {},
     "output_type": "execute_result"
    }
   ],
   "source": [
    "df.describe()"
   ]
  },
  {
   "cell_type": "markdown",
   "metadata": {},
   "source": [
    "**Average Token Per Page**: `447`\n",
    "\n",
    "Why care about Token?\n",
    "\n",
    "Token is important concept because:\n",
    "1. Embedding Models don't deal with infinite tokens.\n",
    "2. LLMs don't deal with infinite tokens.\n",
    "\n",
    "For example an embedding model may be trained to embed sequence of `384` tokens into numerical space. \n",
    "\n",
    "As for LLMs, they can't accept infinite number of Tokens into their **LLM Context Window**.\n"
   ]
  },
  {
   "cell_type": "markdown",
   "metadata": {},
   "source": [
    "### 1.5 Splitting each page into sentences"
   ]
  },
  {
   "cell_type": "markdown",
   "metadata": {},
   "source": []
  }
 ],
 "metadata": {
  "kernelspec": {
   "display_name": "llm",
   "language": "python",
   "name": "python3"
  },
  "language_info": {
   "codemirror_mode": {
    "name": "ipython",
    "version": 3
   },
   "file_extension": ".py",
   "mimetype": "text/x-python",
   "name": "python",
   "nbconvert_exporter": "python",
   "pygments_lexer": "ipython3",
   "version": "3.12.4"
  }
 },
 "nbformat": 4,
 "nbformat_minor": 2
}
